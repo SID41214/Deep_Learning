{
  "nbformat": 4,
  "nbformat_minor": 0,
  "metadata": {
    "colab": {
      "provenance": []
    },
    "kernelspec": {
      "name": "python3",
      "display_name": "Python 3"
    },
    "language_info": {
      "name": "python"
    }
  },
  "cells": [
    {
      "cell_type": "markdown",
      "source": [
        "* To use the Keras library to build models for classificaiton problems. We will use the popular MNIST dataset, a dataset of images, for a change.\n",
        "\n",
        "* The MNIST database, short for Modified National Institute of Standards and Technology database, is a large database of handwritten digits that is commonly used for training various image processing systems. The database is also widely used for training and testing in the field of machine learning.\n",
        "\n",
        "* The MNIST database contains 60,000 training images and 10,000 testing images of digits written by high school students and employees of the United States Census Bureau.\n",
        "\n",
        "* Also, to compare how conventional neural networks compare to convolutional neural network"
      ],
      "metadata": {
        "id": "vOPVD65ULwSk"
      }
    },
    {
      "cell_type": "markdown",
      "source": [
        "# Classification Models with Keras"
      ],
      "metadata": {
        "id": "8FBjeIo5MAZs"
      }
    },
    {
      "cell_type": "markdown",
      "source": [
        "**Import Keras and Package**"
      ],
      "metadata": {
        "id": "RQyC6dLHMEUy"
      }
    },
    {
      "cell_type": "code",
      "source": [
        "# All Libraries required for this lab are listed below. The libraries pre-installed on Skills Network Labs are commented.\n",
        "# If you run this notebook on a different environment, e.g. your desktop, you may need to uncomment and install certain libraries.\n",
        "\n",
        "#!pip install numpy==1.21.4\n",
        "#!pip install pandas==1.3.4\n",
        "#!pip install keras==2.1.6\n",
        "#!pip install matplotlib==3.5.0"
      ],
      "metadata": {
        "id": "crbisaoDMHdo"
      },
      "execution_count": 1,
      "outputs": []
    },
    {
      "cell_type": "code",
      "source": [
        "import keras\n",
        "\n",
        "from keras.models import Sequential\n",
        "from keras.layers import Dense\n",
        "from keras.utils import to_categorical"
      ],
      "metadata": {
        "id": "zvhXEIbrMJm9"
      },
      "execution_count": 2,
      "outputs": []
    },
    {
      "cell_type": "markdown",
      "source": [
        "load the MNIST dataset from the Keras library. The dataset is readily divided into a training set and a test set."
      ],
      "metadata": {
        "id": "P3BvYg7aMjFF"
      }
    },
    {
      "cell_type": "code",
      "source": [
        "import matplotlib.pyplot as plt"
      ],
      "metadata": {
        "id": "o7s2oDUYM6pK"
      },
      "execution_count": 6,
      "outputs": []
    },
    {
      "cell_type": "code",
      "source": [
        "# import the data\n",
        "from keras.datasets import mnist\n",
        "\n",
        "# read the data\n",
        "(X_train, y_train), (X_test, y_test) = mnist.load_data()"
      ],
      "metadata": {
        "colab": {
          "base_uri": "https://localhost:8080/"
        },
        "id": "E6EX6OzxMj0p",
        "outputId": "62963309-1829-4418-aa74-e8d21460d973"
      },
      "execution_count": 3,
      "outputs": [
        {
          "output_type": "stream",
          "name": "stdout",
          "text": [
            "Downloading data from https://storage.googleapis.com/tensorflow/tf-keras-datasets/mnist.npz\n",
            "\u001b[1m11490434/11490434\u001b[0m \u001b[32m━━━━━━━━━━━━━━━━━━━━\u001b[0m\u001b[37m\u001b[0m \u001b[1m0s\u001b[0m 0us/step\n"
          ]
        }
      ]
    },
    {
      "cell_type": "markdown",
      "source": [
        "Let's confirm the number of images in each set. According to the dataset's documentation, we should have 60000 images in X_train and 10000 images in the X_test."
      ],
      "metadata": {
        "id": "R3agenxKMnnP"
      }
    },
    {
      "cell_type": "code",
      "source": [
        "X_train.shape"
      ],
      "metadata": {
        "colab": {
          "base_uri": "https://localhost:8080/"
        },
        "id": "B_gVP1zzMoQh",
        "outputId": "b501536e-29a4-4772-9799-2860c7d71d4b"
      },
      "execution_count": 4,
      "outputs": [
        {
          "output_type": "execute_result",
          "data": {
            "text/plain": [
              "(60000, 28, 28)"
            ]
          },
          "metadata": {},
          "execution_count": 4
        }
      ]
    },
    {
      "cell_type": "markdown",
      "source": [
        "The first number in the output tuple is the number of images, and the other two numbers are the size of the images in datset. So, each image is 28 pixels by 28 pixels."
      ],
      "metadata": {
        "id": "T_QJtK3BMrrU"
      }
    },
    {
      "cell_type": "markdown",
      "source": [
        "Let's visualize the first image in the training set using Matplotlib's scripting layer."
      ],
      "metadata": {
        "id": "dRnJKVpSMziD"
      }
    },
    {
      "cell_type": "code",
      "source": [
        "plt.imshow(X_train[0])"
      ],
      "metadata": {
        "colab": {
          "base_uri": "https://localhost:8080/",
          "height": 447
        },
        "id": "J69UER-XM0Jf",
        "outputId": "951c822f-888b-456f-c35f-b928beb253b6"
      },
      "execution_count": 7,
      "outputs": [
        {
          "output_type": "execute_result",
          "data": {
            "text/plain": [
              "<matplotlib.image.AxesImage at 0x7ea21da4e7a0>"
            ]
          },
          "metadata": {},
          "execution_count": 7
        },
        {
          "output_type": "display_data",
          "data": {
            "text/plain": [
              "<Figure size 640x480 with 1 Axes>"
            ],
            "image/png": "[encoded data removed]"
          },
          "metadata": {}
        }
      ]
    },
    {
      "cell_type": "markdown",
      "source": [
        "With conventional neural networks, we cannot feed in the image as input as is. So we need to flatten the images into one-dimensional vectors, each of size 1 x (28 x 28) = 1 x 784."
      ],
      "metadata": {
        "id": "-PaL5m44M_d1"
      }
    },
    {
      "cell_type": "code",
      "source": [
        "# flatten images into one-dimensional vector\n",
        "\n",
        "num_pixels = X_train.shape[1] * X_train.shape[2] # find size of one-dimensional vector\n",
        "\n",
        "X_train = X_train.reshape(X_train.shape[0], num_pixels).astype('float32') # flatten training images\n",
        "X_test = X_test.reshape(X_test.shape[0], num_pixels).astype('float32') # flatten test images"
      ],
      "metadata": {
        "id": "Ck10DsnvNCHt"
      },
      "execution_count": 8,
      "outputs": []
    },
    {
      "cell_type": "markdown",
      "source": [
        "Since pixel values can range from 0 to 255, let's normalize the vectors to be between 0 and 1."
      ],
      "metadata": {
        "id": "N7tPvpunNGIt"
      }
    },
    {
      "cell_type": "code",
      "source": [
        "# normalize inputs from 0-255 to 0-1\n",
        "X_train = X_train / 255\n",
        "X_test = X_test / 255"
      ],
      "metadata": {
        "id": "H5cgB8iQNGoX"
      },
      "execution_count": 9,
      "outputs": []
    },
    {
      "cell_type": "markdown",
      "source": [
        "Finally, before we start building our model, remember that for classification we need to divide our target variable into categories. We use the to_categorical function from the Keras Utilities package."
      ],
      "metadata": {
        "id": "5zLEFn9aNJlH"
      }
    },
    {
      "cell_type": "code",
      "source": [
        "# one hot encode outputs\n",
        "y_train = to_categorical(y_train)\n",
        "y_test = to_categorical(y_test)\n",
        "\n",
        "num_classes = y_test.shape[1]\n",
        "print(num_classes)"
      ],
      "metadata": {
        "colab": {
          "base_uri": "https://localhost:8080/"
        },
        "id": "EYRllOuaNMBb",
        "outputId": "db5dd2a5-282e-465e-9fd7-ebf516bbc4da"
      },
      "execution_count": 10,
      "outputs": [
        {
          "output_type": "stream",
          "name": "stdout",
          "text": [
            "10\n"
          ]
        }
      ]
    },
    {
      "cell_type": "markdown",
      "source": [
        "# Build a Neural Network"
      ],
      "metadata": {
        "id": "QMupWgTQNOwa"
      }
    },
    {
      "cell_type": "code",
      "source": [
        "# define classification model\n",
        "def classification_model():\n",
        "    # create model\n",
        "    model = Sequential()\n",
        "    model.add(Dense(num_pixels, activation='relu', input_shape=(num_pixels,)))\n",
        "    model.add(Dense(100, activation='relu'))\n",
        "    model.add(Dense(num_classes, activation='softmax'))\n",
        "\n",
        "\n",
        "    # compile model\n",
        "    model.compile(optimizer='adam', loss='categorical_crossentropy', metrics=['accuracy'])\n",
        "    return model"
      ],
      "metadata": {
        "id": "ixOXBPlpNRO9"
      },
      "execution_count": 11,
      "outputs": []
    },
    {
      "cell_type": "markdown",
      "source": [
        "# Train and Test the Network"
      ],
      "metadata": {
        "id": "-J0oW3XINUA5"
      }
    },
    {
      "cell_type": "code",
      "source": [
        "# build the model\n",
        "model = classification_model()\n",
        "\n",
        "# fit the model\n",
        "model.fit(X_train, y_train, validation_data=(X_test, y_test), epochs=10, verbose=2)\n",
        "\n",
        "# evaluate the model\n",
        "scores = model.evaluate(X_test, y_test, verbose=0)"
      ],
      "metadata": {
        "colab": {
          "base_uri": "https://localhost:8080/"
        },
        "id": "qitndvvFNW84",
        "outputId": "b006b608-7d16-4442-881f-7f017162f250"
      },
      "execution_count": 12,
      "outputs": [
        {
          "output_type": "stream",
          "name": "stderr",
          "text": [
            "/usr/local/lib/python3.10/dist-packages/keras/src/layers/core/dense.py:87: UserWarning: Do not pass an `input_shape`/`input_dim` argument to a layer. When using Sequential models, prefer using an `Input(shape)` object as the first layer in the model instead.\n",
            "  super().__init__(activity_regularizer=activity_regularizer, **kwargs)\n"
          ]
        },
        {
          "output_type": "stream",
          "name": "stdout",
          "text": [
            "Epoch 1/10\n",
            "1875/1875 - 21s - 11ms/step - accuracy: 0.9444 - loss: 0.1845 - val_accuracy: 0.9725 - val_loss: 0.0847\n",
            "Epoch 2/10\n",
            "1875/1875 - 18s - 10ms/step - accuracy: 0.9752 - loss: 0.0788 - val_accuracy: 0.9772 - val_loss: 0.0742\n",
            "Epoch 3/10\n",
            "1875/1875 - 24s - 13ms/step - accuracy: 0.9824 - loss: 0.0536 - val_accuracy: 0.9779 - val_loss: 0.0765\n",
            "Epoch 4/10\n",
            "1875/1875 - 40s - 21ms/step - accuracy: 0.9871 - loss: 0.0396 - val_accuracy: 0.9797 - val_loss: 0.0711\n",
            "Epoch 5/10\n",
            "1875/1875 - 19s - 10ms/step - accuracy: 0.9901 - loss: 0.0307 - val_accuracy: 0.9822 - val_loss: 0.0695\n",
            "Epoch 6/10\n",
            "1875/1875 - 22s - 12ms/step - accuracy: 0.9912 - loss: 0.0257 - val_accuracy: 0.9801 - val_loss: 0.0882\n",
            "Epoch 7/10\n",
            "1875/1875 - 20s - 11ms/step - accuracy: 0.9931 - loss: 0.0215 - val_accuracy: 0.9775 - val_loss: 0.0841\n",
            "Epoch 8/10\n",
            "1875/1875 - 21s - 11ms/step - accuracy: 0.9937 - loss: 0.0197 - val_accuracy: 0.9787 - val_loss: 0.0883\n",
            "Epoch 9/10\n",
            "1875/1875 - 19s - 10ms/step - accuracy: 0.9949 - loss: 0.0161 - val_accuracy: 0.9803 - val_loss: 0.0825\n",
            "Epoch 10/10\n",
            "1875/1875 - 22s - 12ms/step - accuracy: 0.9947 - loss: 0.0165 - val_accuracy: 0.9809 - val_loss: 0.0896\n"
          ]
        }
      ]
    },
    {
      "cell_type": "markdown",
      "source": [
        "Let's print the accuracy and the corresponding error."
      ],
      "metadata": {
        "id": "fYKVt6HYOcMB"
      }
    },
    {
      "cell_type": "code",
      "source": [
        "print('Accuracy: {}% \\n Error: {}'.format(scores[1], 1 - scores[1]))"
      ],
      "metadata": {
        "colab": {
          "base_uri": "https://localhost:8080/"
        },
        "id": "Q2QLCNoXOeBV",
        "outputId": "96fe8cfe-824a-454d-dde3-a0c58b3a6a56"
      },
      "execution_count": 13,
      "outputs": [
        {
          "output_type": "stream",
          "name": "stdout",
          "text": [
            "Accuracy: 0.98089998960495% \n",
            " Error: 0.01910001039505005\n"
          ]
        }
      ]
    },
    {
      "cell_type": "markdown",
      "source": [
        "Just running 10 epochs could actually take over 20 minutes. But enjoy the results as they are getting generated."
      ],
      "metadata": {
        "id": "hDlN3TsBOiuQ"
      }
    },
    {
      "cell_type": "markdown",
      "source": [
        "Sometimes, you cannot afford to retrain your model everytime you want to use it, especially if you are limited on computational resources and training your model can take a long time. Therefore, with the Keras library, you can save your model after training. To do that, we use the save method."
      ],
      "metadata": {
        "id": "zLEuA0bUOjTT"
      }
    },
    {
      "cell_type": "code",
      "source": [
        "model.save('classification_model.h5')"
      ],
      "metadata": {
        "colab": {
          "base_uri": "https://localhost:8080/"
        },
        "id": "v8uNtWWQOlfk",
        "outputId": "da809084-a104-48aa-b429-075a42cb78a1"
      },
      "execution_count": 14,
      "outputs": [
        {
          "output_type": "stream",
          "name": "stderr",
          "text": [
            "WARNING:absl:You are saving your model as an HDF5 file via `model.save()` or `keras.saving.save_model(model)`. This file format is considered legacy. We recommend using instead the native Keras format, e.g. `model.save('my_model.keras')` or `keras.saving.save_model(model, 'my_model.keras')`. \n"
          ]
        }
      ]
    },
    {
      "cell_type": "markdown",
      "source": [
        "Since our model contains multidimensional arrays of data, then models are usually saved as .h5 files.\n",
        "\n",
        "\n",
        "\n",
        "\n",
        "\n",
        "\n",
        "\n",
        "When you are ready to use your model again, you use the load_model function from keras.models."
      ],
      "metadata": {
        "id": "h-csISDVOqbB"
      }
    },
    {
      "cell_type": "code",
      "source": [
        "from keras.models import load_model"
      ],
      "metadata": {
        "id": "RP55kuPHOtZI"
      },
      "execution_count": 15,
      "outputs": []
    },
    {
      "cell_type": "code",
      "source": [
        "pretrained_model = load_model('classification_model.h5')"
      ],
      "metadata": {
        "id": "6y6WViYzOu_q",
        "outputId": "2e2b2626-589d-4985-b33c-c6e6d8946eee",
        "colab": {
          "base_uri": "https://localhost:8080/"
        }
      },
      "execution_count": 16,
      "outputs": [
        {
          "output_type": "stream",
          "name": "stderr",
          "text": [
            "WARNING:absl:Compiled the loaded model, but the compiled metrics have yet to be built. `model.compile_metrics` will be empty until you train or evaluate the model.\n"
          ]
        }
      ]
    }
  ]
}
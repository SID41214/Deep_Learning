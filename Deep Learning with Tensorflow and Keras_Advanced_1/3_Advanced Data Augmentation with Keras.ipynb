{
 "cells": [
  {
   "cell_type": "markdown",
   "id": "d73a0555-44f2-47eb-9c15-f0de34122997",
   "metadata": {},
   "source": [
    "## Lab: Advanced Data Augmentation with Keras \n"
   ]
  },
  {
   "cell_type": "markdown",
   "id": "ff392129-46b2-4e22-919e-180716d6b244",
   "metadata": {},
   "source": [
    "#### Step-by-step instructions \n",
    "\n",
    "##### Step 1: Setup the environment \n",
    "\n",
    " Import the necessary libraries and load the data set as follows: \n"
   ]
  },
  {
   "cell_type": "code",
   "execution_count": null,
   "id": "073025b5-30be-43f9-85a2-c57748af6a32",
   "metadata": {},
   "outputs": [],
   "source": [
    "# Install required libraries\n",
    "!pip install tensorflow==2.16.2 matplotlib==3.9.1 scipy\n",
    "\n",
    "# Import necessary libraries\n",
    "import tensorflow as tf\n",
    "import numpy as np\n",
    "import matplotlib.pyplot as plt\n",
    "from tensorflow.keras.preprocessing.image import ImageDataGenerator\n",
    "\n",
    "# Load CIFAR-10 dataset for training images\n",
    "(x_train, y_train), (x_test, y_test) = tf.keras.datasets.cifar10.load_data()\n",
    "\n",
    "# Normalize the pixel values for augmentation\n",
    "x_train = x_train.astype('float32') / 255.0\n",
    "x_test = x_test.astype('float32') / 255.0\n",
    "\n",
    "# Display a sample of the training images\n",
    "plt.figure(figsize=(10, 10))\n",
    "for i in range(16):\n",
    "    plt.subplot(4, 4, i+1)\n",
    "    plt.imshow(x_train[i])\n",
    "    plt.axis('off')\n",
    "plt.show()\n"
   ]
  },
  {
   "cell_type": "markdown",
   "id": "f841f83e-bc8f-4a0a-8e5d-fadfcc3d022d",
   "metadata": {},
   "source": [
    "### **Create sample.jpg for the Lab**\n"
   ]
  },
  {
   "cell_type": "code",
   "execution_count": null,
   "id": "fa13f5c8-c6d5-47c3-9798-08494ef5e862",
   "metadata": {},
   "outputs": [],
   "source": [
    "from PIL import Image, ImageDraw\n",
    "\n",
    "# Create a blank white image\n",
    "image = Image.new('RGB', (224, 224), color = (255, 255, 255))\n",
    "\n",
    "# Draw a red square\n",
    "draw = ImageDraw.Draw(image)\n",
    "draw.rectangle([(50, 50), (174, 174)], fill=(255, 0, 0))\n",
    "\n",
    "# Save the image\n",
    "image.save('sample.jpg')\n"
   ]
  },
  {
   "cell_type": "code",
   "execution_count": null,
   "id": "78820627-d0ab-4346-ae24-6916aaec1ab3",
   "metadata": {},
   "outputs": [],
   "source": [
    "import numpy as np \n",
    "import matplotlib.pyplot as plt \n",
    "from tensorflow.keras.preprocessing.image import ImageDataGenerator, load_img, img_to_array \n",
    "\n",
    "# Load a sample image \n",
    "img_path = 'sample.jpg' \n",
    "img = load_img(img_path) \n",
    "x = img_to_array(img) \n",
    "x = np.expand_dims(x, axis=0) "
   ]
  },
  {
   "cell_type": "markdown",
   "id": "b0b4d2a4-067a-4bd7-9eba-3082128db132",
   "metadata": {},
   "source": [
    "In the code: \n",
    "- `!pip install tensorflow==2.16.2 matplotlib==3.9.1` installs the specified versions of `TensorFlow and Matplotlib`.  \n",
    "\n",
    "- `tensorflow` is the main library for machine learning in Python.  \n",
    "\n",
    "- `Model` is used to create a model with the Functional API. \n",
    "\n",
    "- `Input` and ‘Dense’ are types of layers that you will use in your model.  \n"
   ]
  },
  {
   "cell_type": "markdown",
   "id": "e55089f1-94e7-4ff0-bfaf-1510653d965a",
   "metadata": {},
   "source": [
    "#### Step 2: Basic data augmentation \n",
    "\n",
    "Apply basic augmentations such as rotation, width shift, height shift, shear, zoom, and horizontal flip using the ImageDataGenerator as follows:\n"
   ]
  },
  {
   "cell_type": "code",
   "execution_count": null,
   "id": "56f1cb8f-e0c5-4b2c-a5f8-0fd6fdf0adf7",
   "metadata": {},
   "outputs": [],
   "source": [
    "import numpy as np\n",
    "import matplotlib.pyplot as plt\n",
    "from tensorflow.keras.preprocessing.image import ImageDataGenerator, load_img, img_to_array\n",
    "\n",
    "# Load the sample image\n",
    "img_path = 'sample.jpg'\n",
    "img = load_img(img_path)\n",
    "x = img_to_array(img)\n",
    "x = np.expand_dims(x, axis=0)\n",
    "\n",
    "# Create an instance of ImageDataGenerator with basic augmentations\n",
    "datagen = ImageDataGenerator(\n",
    "    rotation_range=40,\n",
    "    width_shift_range=0.2,\n",
    "    height_shift_range=0.2,\n",
    "    shear_range=0.2,\n",
    "    zoom_range=0.2,\n",
    "    horizontal_flip=True,\n",
    "    fill_mode='nearest'\n",
    ")\n",
    "\n",
    "# Generate batches of augmented images\n",
    "i = 0\n",
    "for batch in datagen.flow(x, batch_size=1):\n",
    "    plt.figure(i)\n",
    "    imgplot = plt.imshow(batch[0].astype('uint8'))\n",
    "    i += 1\n",
    "    if i % 4 == 0:\n",
    "        break\n",
    "\n",
    "plt.show()\n"
   ]
  },
  {
   "cell_type": "markdown",
   "id": "3674480c-d7a0-4a5a-825a-6d104d9cd88a",
   "metadata": {},
   "source": [
    "\n",
    "#### Step 3: Feature-wise and sample-wise normalization \n",
    "\n",
    "Implement feature-wise and sample-wise normalization on the data set as follows:    \n"
   ]
  },
  {
   "cell_type": "code",
   "execution_count": null,
   "id": "ceb2b691-316c-47ca-b583-888cacc410a4",
   "metadata": {},
   "outputs": [],
   "source": [
    "# Create an instance of ImageDataGenerator with normalization options\n",
    "datagen = ImageDataGenerator(\n",
    "    featurewise_center=True,\n",
    "    featurewise_std_normalization=True,\n",
    "    samplewise_center=True,\n",
    "    samplewise_std_normalization=True\n",
    ")\n",
    "\n",
    "# Load the sample image again and fit the generator (normally done on the training set)\n",
    "datagen.fit(x)\n",
    "\n",
    "# Generate batches of normalized images\n",
    "i = 0\n",
    "for batch in datagen.flow(x, batch_size=1):\n",
    "    plt.figure(i)\n",
    "    imgplot = plt.imshow(batch[0].astype('uint8'))\n",
    "    i += 1\n",
    "    if i % 4 == 0:\n",
    "        break\n",
    "\n",
    "plt.show()\n"
   ]
  },
  {
   "cell_type": "markdown",
   "id": "0db12d9e-20a0-4de6-b5fd-51777bf0f041",
   "metadata": {},
   "source": [
    "\n",
    "\n",
    "#### Step 4: Custom data augmentation function \n",
    "\n",
    "Next, you define and apply a custom augmentation function that adds random noise to images as follows: \n"
   ]
  },
  {
   "cell_type": "code",
   "execution_count": null,
   "id": "fd0394c0-3a0f-48f3-abb2-6b18b2145247",
   "metadata": {},
   "outputs": [],
   "source": [
    "# Define a custom data augmentation function\n",
    "def add_random_noise(image):\n",
    "    noise = np.random.normal(0, 0.1, image.shape)\n",
    "    return image + noise\n",
    "\n",
    "# Create an instance of ImageDataGenerator with the custom augmentation\n",
    "datagen = ImageDataGenerator(preprocessing_function=add_random_noise)\n",
    "\n",
    "# Generate batches of augmented images with noise\n",
    "i = 0\n",
    "for batch in datagen.flow(x, batch_size=1):\n",
    "    plt.figure(i)\n",
    "    imgplot = plt.imshow(batch[0].astype('uint8'))\n",
    "    i += 1\n",
    "    if i % 4 == 0:\n",
    "        break\n",
    "\n",
    "plt.show()"
   ]
  },
  {
   "cell_type": "markdown",
   "id": "cea0cdfb-dde3-4543-8484-458d7c467935",
   "metadata": {},
   "source": [
    "#### Step 5: Visualize augmented images \n",
    "\n",
    "Visualize the augmented images to understand the impact of each augmentation technique. \n"
   ]
  },
  {
   "cell_type": "code",
   "execution_count": null,
   "id": "468b6151-f0ee-43c9-847d-6c7daf8f514e",
   "metadata": {},
   "outputs": [],
   "source": [
    "# Visualizing multiple augmented versions of the same image\n",
    "plt.figure(figsize=(10, 10))\n",
    "for i, batch in enumerate(datagen.flow(x, batch_size=1)):\n",
    "    if i >= 4:  # Show only 4 versions\n",
    "        break\n",
    "    plt.subplot(2, 2, i+1)\n",
    "    plt.imshow(batch[0].astype('uint8'))\n",
    "plt.show()\n"
   ]
  },
  {
   "cell_type": "markdown",
   "id": "9fcb0dc3-e2de-4e79-8940-6567d67e6d15",
   "metadata": {},
   "source": [
    "\n",
    "This Markdown explanation will provide clarity in a Jupyter Notebook, making the code and its purpose easier to understand.\n"
   ]
  },
  {
   "cell_type": "markdown",
   "id": "9e533234-faba-4296-9775-b842ff6fad29",
   "metadata": {},
   "source": [
    "## Practice Exercises:\n"
   ]
  },
  {
   "cell_type": "markdown",
   "id": "c5696acc-1b52-4861-b6af-2917fb33f215",
   "metadata": {},
   "source": [
    "### Exercise 1: Apply and Visualize Different Augmentation Techniques \n",
    "\n",
    "  \n",
    "\n",
    "Objective: Experiment with different augmentation techniques and visualize their effects. \n"
   ]
  },
  {
   "cell_type": "markdown",
   "id": "62018930-30f2-4096-b10e-fbb38d03c99a",
   "metadata": {},
   "source": [
    "Download the `sample_images` folder containing a collection of images that will be used for this practice exercise.\n"
   ]
  },
  {
   "cell_type": "code",
   "execution_count": null,
   "id": "470c1e81-6a1e-42c8-8d36-e9d18fd271cf",
   "metadata": {},
   "outputs": [],
   "source": [
    "!wget https://cf-courses-data.s3.us.cloud-object-storage.appdomain.cloud/RgP3JFNtPTZA34UmG3KZaA/sample-images.zip"
   ]
  },
  {
   "cell_type": "markdown",
   "id": "c162d8d4-c75d-44d5-acab-0f310de14405",
   "metadata": {},
   "source": [
    "Extract the images by unzipping the folder\n"
   ]
  },
  {
   "cell_type": "code",
   "execution_count": null,
   "id": "50f8c50e-0844-4096-b0d9-66e7cf4f4e49",
   "metadata": {},
   "outputs": [],
   "source": [
    "!unzip sample-images.zip "
   ]
  },
  {
   "cell_type": "markdown",
   "id": "bd281694-22df-480a-bef4-b100eb6ae7ac",
   "metadata": {},
   "source": [
    "### Instructions: \n",
    "\n",
    "1. Create an instance of `ImageDataGenerator` with various augmentations such as rotation, width shift, height shift, shear, zoom, and horizontal flip. \n",
    "\n",
    "2. Generate and visualize augmented images. \n"
   ]
  },
  {
   "cell_type": "code",
   "execution_count": null,
   "id": "c80e9c6c-fdb7-4a4a-ab3d-133020ea96a1",
   "metadata": {},
   "outputs": [],
   "source": []
  },
  {
   "cell_type": "markdown",
   "id": "d2816d40-cbe9-403f-9d0b-31982bebdaff",
   "metadata": {},
   "source": [
    "<details>\n",
    "    <summary>Click here for Solution</summary>\n",
    "\n",
    "```python\n",
    "\n",
    " \n",
    "\n",
    "from tensorflow.keras.preprocessing.image import ImageDataGenerator, load_img, img_to_array, array_to_img  \n",
    "\n",
    "import matplotlib.pyplot as plt  \n",
    "\n",
    "import numpy as np  \n",
    "\n",
    " \n",
    "\n",
    "# Define the augmentation parameters  \n",
    "\n",
    "datagen = ImageDataGenerator(  \n",
    "\n",
    "    rotation_range=40,  \n",
    "\n",
    "    width_shift_range=0.2,  \n",
    "\n",
    "    height_shift_range=0.2,  \n",
    "\n",
    "    shear_range=0.2,  \n",
    "\n",
    "    zoom_range=0.2,  \n",
    "\n",
    "    horizontal_flip=True,  \n",
    "\n",
    "    fill_mode='nearest'  \n",
    "\n",
    ")  \n",
    "\n",
    " \n",
    "\n",
    "# Load and preprocess the dataset  \n",
    "\n",
    "image_paths = [  \n",
    "\n",
    "    'sample_images/training_images1.jpg',  \n",
    "\n",
    "    'sample_images/training_images2.jpg',  \n",
    "\n",
    "    'sample_images/training_images3.jpg'  \n",
    "\n",
    "]  \n",
    "\n",
    " \n",
    "\n",
    "training_images = []  \n",
    "\n",
    "for image_path in image_paths:  \n",
    "\n",
    "    img = load_img(image_path, target_size=(224, 224))  \n",
    "\n",
    "    img_array = img_to_array(img)  \n",
    "\n",
    "    training_images.append(img_array)  \n",
    "\n",
    "training_images = np.array(training_images)  \n",
    "\n",
    " \n",
    "\n",
    "# Generate and visualize augmented images  \n",
    "\n",
    "i = 0  \n",
    "\n",
    "for batch in datagen.flow(training_images, batch_size=1):  \n",
    "\n",
    "    plt.figure(i)  \n",
    "\n",
    "    imgplot = plt.imshow(array_to_img(batch[0]))  \n",
    "\n",
    "    plt.title(f'Augmented Image {i + 1}')  \n",
    "\n",
    "    i += 1  \n",
    "\n",
    "    if i % 4 == 0:  \n",
    "\n",
    "        break  \n",
    "\n",
    "plt.show()  \n",
    "\n",
    " ```   \n",
    "\n",
    "</details>\n"
   ]
  },
  {
   "cell_type": "markdown",
   "id": "05618361-6a1f-459f-8d0a-300a634fe154",
   "metadata": {},
   "source": [
    "### Exercise 2: Implement Feature-wise and Sample-wise Normalization\n",
    " \n",
    "Objective: Apply feature-wise and sample-wise normalization to the dataset.\n",
    " \n",
    "Instructions:\n",
    "1. Create an instance of `ImageDataGenerator` with feature-wise and sample-wise normalization.\n",
    "2. Fit the `ImageDataGenerator` to the data set and visualize the normalized images.\n"
   ]
  },
  {
   "cell_type": "code",
   "execution_count": null,
   "id": "5946e59f-3832-43d6-81dc-989ad6fbfce1",
   "metadata": {},
   "outputs": [],
   "source": []
  },
  {
   "cell_type": "markdown",
   "id": "13af8a80-26f6-46b6-beaa-01d7e89c8823",
   "metadata": {},
   "source": [
    "<details>\n",
    "    <summary>Click here for Solution</summary>\n",
    "\n",
    "```python\n",
    " \n",
    "\n",
    "# Create an instance of ImageDataGenerator with normalization options  \n",
    "\n",
    "datagen = ImageDataGenerator(  \n",
    "\n",
    "    featurewise_center=True,  \n",
    "\n",
    "    featurewise_std_normalization=True,  \n",
    "\n",
    "    samplewise_center=True,  \n",
    "\n",
    "    samplewise_std_normalization=True  \n",
    "\n",
    ")  \n",
    "\n",
    " \n",
    "\n",
    "# Fit the ImageDataGenerator to the dataset  \n",
    "\n",
    "datagen.fit(training_images)  \n",
    "\n",
    " \n",
    "\n",
    "# Generate and visualize normalized images  \n",
    "\n",
    "i = 0  \n",
    "\n",
    "for batch in datagen.flow(training_images, batch_size=1):  \n",
    "\n",
    "    plt.figure(i)  \n",
    "\n",
    "    imgplot = plt.imshow(array_to_img(batch[0]))  \n",
    "\n",
    "    plt.title(f'Normalized Image {i + 1}')  \n",
    "\n",
    "    i += 1  \n",
    "\n",
    "    if i % 4 == 0:  \n",
    "\n",
    "        break  \n",
    "\n",
    "plt.show()  \n",
    "\n",
    " \n",
    "\n",
    " ```   \n",
    "\n",
    "</details>\n",
    "\n",
    "  \n"
   ]
  },
  {
   "cell_type": "markdown",
   "id": "1761ce0a-90e6-4e9f-b034-3316822eb8aa",
   "metadata": {},
   "source": [
    "### Exercise 3: Create and Apply a Custom Data Augmentation Function\n",
    " \n",
    "Objective: Define a custom data augmentation function that adds random noise to images and apply it.\n",
    " \n",
    "Instructions:\n",
    "1. Define a function that adds random noise to an image.\n",
    "2. Create an instance of `ImageDataGenerator` with the custom augmentation function.\n",
    "3. Generate and visualize augmented images.\n"
   ]
  },
  {
   "cell_type": "code",
   "execution_count": null,
   "id": "d9ebaa39-f025-45e8-88b3-5396ed9626ca",
   "metadata": {},
   "outputs": [],
   "source": [
    " "
   ]
  },
  {
   "cell_type": "markdown",
   "id": "51a50e77-c628-4f19-a7fa-7e7864655305",
   "metadata": {},
   "source": [
    "<details>\n",
    "    <summary>Click here for Solution</summary>\n",
    "\n",
    "```python\n",
    "\n",
    " \n",
    "\n",
    "# Define a custom augmentation function to add random noise  \n",
    "\n",
    "def add_random_noise(image):  \n",
    "\n",
    "    noise = np.random.normal(0, 0.1, image.shape)  \n",
    "\n",
    "    return image + noise  \n",
    "\n",
    " \n",
    "\n",
    "# Create an instance of ImageDataGenerator with custom augmentation  \n",
    "\n",
    "datagen = ImageDataGenerator(preprocessing_function=add_random_noise)  \n",
    "\n",
    " \n",
    "\n",
    "# Generate and visualize augmented images  \n",
    "\n",
    "i = 0  \n",
    "\n",
    "for batch in datagen.flow(training_images, batch_size=1):  \n",
    "\n",
    "    plt.figure(i)  \n",
    "\n",
    "    imgplot = plt.imshow(array_to_img(batch[0]))  \n",
    "\n",
    "    plt.title(f'Noisy Image {i + 1}')  \n",
    "\n",
    "    i += 1  \n",
    "\n",
    "    if i % 4 == 0:  \n",
    "\n",
    "        break  \n",
    "\n",
    "plt.show()  \n",
    "\n",
    " ```   \n",
    "\n",
    "</details>\n"
   ]
  }
 ],
 "metadata": {
  "kernelspec": {
   "display_name": "Python 3 (ipykernel)",
   "language": "python",
   "name": "python3"
  },
  "language_info": {
   "codemirror_mode": {
    "name": "ipython",
    "version": 3
   },
   "file_extension": ".py",
   "mimetype": "text/x-python",
   "name": "python",
   "nbconvert_exporter": "python",
   "pygments_lexer": "ipython3",
   "version": "3.12.8"
  },
  "prev_pub_hash": "457a8ca8852b9f780653ab511cbd19afe6777bafc1774c1f5e8186ccf67f3998"
 },
 "nbformat": 4,
 "nbformat_minor": 4
}
